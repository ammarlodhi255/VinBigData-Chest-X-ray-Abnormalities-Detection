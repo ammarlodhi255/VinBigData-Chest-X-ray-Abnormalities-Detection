{
 "cells": [
  {
   "cell_type": "code",
   "execution_count": 42,
   "metadata": {},
   "outputs": [],
   "source": [
    "import os\n",
    "import cv2\n",
    "from tqdm import tqdm"
   ]
  },
  {
   "cell_type": "code",
   "execution_count": 43,
   "metadata": {},
   "outputs": [],
   "source": [
    "dataset_path = 'D:\\data'\n",
    "folder = ['train', 'val']"
   ]
  },
  {
   "cell_type": "code",
   "execution_count": 44,
   "metadata": {},
   "outputs": [],
   "source": [
    "def getText(path):\n",
    "    text = ''\n",
    "    for i in open(path):\n",
    "        text += i\n",
    "    return text"
   ]
  },
  {
   "cell_type": "code",
   "execution_count": 45,
   "metadata": {},
   "outputs": [
    {
     "name": "stderr",
     "output_type": "stream",
     "text": [
      "100%|██████████| 12000/12000 [15:38<00:00, 12.79it/s]\n",
      "100%|██████████| 3000/3000 [04:22<00:00, 11.42it/s]\n"
     ]
    }
   ],
   "source": [
    "for i in folder:\n",
    "    for file in tqdm(os.listdir(os.path.join(dataset_path, 'images', i))):\n",
    "        img = cv2.imread(os.path.join(dataset_path, 'images', i, file))\n",
    "        img_height = img.shape[0]\n",
    "        img_width = img.shape[1]\n",
    "        path = os.path.join(dataset_path, 'labels', i, f'{file[:-3]}txt')\n",
    "        text = getText(path)\n",
    "        if len(text) > 0:\n",
    "            new_text = ''\n",
    "            for line in text.split('\\n'):\n",
    "                values = line.split(' ')\n",
    "                new_x = round(float(values[1]) / img_width, 6)\n",
    "                new_y = round(float(values[2]) / img_height, 6)\n",
    "                new_w = round(float(values[3]) / img_width, 6)\n",
    "                new_h = round(float(values[4]) / img_height, 6)\n",
    "                new_text += f'{values[0]} {new_x} {new_y} {new_w} {new_h}\\n'\n",
    "        \n",
    "            path = os.path.join(dataset_path, 'labels', i, f'{file[:-3]}txt')\n",
    "            f = open(path, 'w')\n",
    "            f.write(new_text)\n",
    "            f.close()"
   ]
  }
 ],
 "metadata": {
  "kernelspec": {
   "display_name": "Python 3.10.6 64-bit",
   "language": "python",
   "name": "python3"
  },
  "language_info": {
   "codemirror_mode": {
    "name": "ipython",
    "version": 3
   },
   "file_extension": ".py",
   "mimetype": "text/x-python",
   "name": "python",
   "nbconvert_exporter": "python",
   "pygments_lexer": "ipython3",
   "version": "3.10.6"
  },
  "orig_nbformat": 4,
  "vscode": {
   "interpreter": {
    "hash": "7c2737f5cd3eb6a237b7123ce75c641d6f975db18b0c0702ad2055474d78171c"
   }
  }
 },
 "nbformat": 4,
 "nbformat_minor": 2
}
