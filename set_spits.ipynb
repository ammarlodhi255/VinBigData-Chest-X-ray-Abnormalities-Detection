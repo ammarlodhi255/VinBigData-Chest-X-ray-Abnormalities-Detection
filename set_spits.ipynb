{
 "cells": [
  {
   "cell_type": "code",
   "execution_count": 2,
   "metadata": {},
   "outputs": [],
   "source": [
    "import os\n",
    "import shutil\n",
    "from random import choice\n",
    "from tqdm import tqdm"
   ]
  },
  {
   "cell_type": "code",
   "execution_count": 4,
   "metadata": {},
   "outputs": [
    {
     "name": "stderr",
     "output_type": "stream",
     "text": [
      "1it [00:00,  5.58it/s]"
     ]
    },
    {
     "name": "stdout",
     "output_type": "stream",
     "text": [
      "Training Samples: 12000, Validation Samples: 3000\n"
     ]
    },
    {
     "name": "stderr",
     "output_type": "stream",
     "text": [
      "\n"
     ]
    }
   ],
   "source": [
    "img_train_path = r'E:\\Datasets\\VinBig Chest Dataset\\VinBig Chest Dataset\\data\\images\\train'\n",
    "img_test_path = r'E:\\Datasets\\VinBig Chest Dataset\\VinBig Chest Dataset\\data\\images\\test'\n",
    "img_valid_path = r'E:\\Datasets\\VinBig Chest Dataset\\VinBig Chest Dataset\\data\\images\\val'\n",
    "# put images and labels in the same folder (having same name)\n",
    "img_label_path = r'E:\\Datasets\\VinBig Chest Dataset\\VinBig Chest Dataset\\images_labels'\n",
    "\n",
    "imgs = []\n",
    "vectors = []\n",
    "\n",
    "train_ratio = 0.8\n",
    "valid_ratio = 0.2\n",
    "\n",
    "for (dir_name, dirs, files) in tqdm(os.walk(img_label_path)):\n",
    "    for filename in files:\n",
    "        if filename.endswith('.txt'):\n",
    "            vectors.append(filename)\n",
    "        else:\n",
    "            imgs.append(filename)\n",
    "\n",
    "num_train = int(len(imgs) * train_ratio)\n",
    "num_valid = int(len(imgs) * valid_ratio)\n",
    "\n",
    "print(\n",
    "    f'Training Samples: {num_train}, Validation Samples: {num_valid}')"
   ]
  },
  {
   "cell_type": "code",
   "execution_count": 5,
   "metadata": {},
   "outputs": [],
   "source": [
    "label_train_path = r'E:\\Datasets\\VinBig Chest Dataset\\VinBig Chest Dataset\\data\\labels\\train'\n",
    "label_valid_path = r'E:\\Datasets\\VinBig Chest Dataset\\VinBig Chest Dataset\\data\\labels\\val'\n",
    "\n",
    "for i in range(num_train):\n",
    "    img = choice(imgs)\n",
    "    xml = vectors[imgs.index(img)]\n",
    "\n",
    "    shutil.copy(os.path.join(img_label_path, img),\n",
    "                os.path.join(img_train_path, img))\n",
    "    shutil.copy(os.path.join(img_label_path, xml),\n",
    "                os.path.join(label_train_path, xml))\n",
    "\n",
    "    imgs.remove(img)\n",
    "    vectors.remove(xml)"
   ]
  },
  {
   "cell_type": "code",
   "execution_count": null,
   "metadata": {},
   "outputs": [],
   "source": [
    "for i in range(num_valid):\n",
    "    img = choice(imgs)\n",
    "    xml = vectors[imgs.index(img)]\n",
    "\n",
    "    shutil.copy(os.path.join(img_label_path, img),\n",
    "                os.path.join(img_valid_path, img))\n",
    "    shutil.copy(os.path.join(img_label_path, xml),\n",
    "                os.path.join(label_valid_path, xml))\n",
    "\n",
    "    imgs.remove(img)\n",
    "    vectors.remove(xml)"
   ]
  }
 ],
 "metadata": {
  "kernelspec": {
   "display_name": "Python 3.10.5 64-bit",
   "language": "python",
   "name": "python3"
  },
  "language_info": {
   "codemirror_mode": {
    "name": "ipython",
    "version": 3
   },
   "file_extension": ".py",
   "mimetype": "text/x-python",
   "name": "python",
   "nbconvert_exporter": "python",
   "pygments_lexer": "ipython3",
   "version": "3.10.5"
  },
  "orig_nbformat": 4,
  "vscode": {
   "interpreter": {
    "hash": "7c2737f5cd3eb6a237b7123ce75c641d6f975db18b0c0702ad2055474d78171c"
   }
  }
 },
 "nbformat": 4,
 "nbformat_minor": 2
}
