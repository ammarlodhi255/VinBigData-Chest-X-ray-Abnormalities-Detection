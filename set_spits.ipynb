{
 "cells": [
  {
   "cell_type": "code",
   "execution_count": 1,
   "metadata": {},
   "outputs": [],
   "source": [
    "import os\n",
    "import shutil\n",
    "from random import choice"
   ]
  },
  {
   "cell_type": "code",
   "execution_count": null,
   "metadata": {},
   "outputs": [],
   "source": [
    "img_train_path = r'E:\\Datasets\\VinBig Chest Dataset\\VinBig Chest Dataset\\data\\images\\train'\n",
    "img_test_path = r'E:\\Datasets\\VinBig Chest Dataset\\VinBig Chest Dataset\\data\\images\\test'\n",
    "img_valid_path = r'E:\\Datasets\\VinBig Chest Dataset\\VinBig Chest Dataset\\data\\images\\val'\n",
    "img_label_path = r'D:\\FYP\\Dataset\\Images and labels' # put images and labels in the same folder (having same name)\n",
    "\n",
    "imgs = []\n",
    "vectors = []\n",
    "\n",
    "train_ratio = 0.7\n",
    "valid_ratio = 0.2\n",
    "test_ratio = 0.1\n",
    "\n",
    "for (dir_name, dirs, files) in os.walk(img_label_path):\n",
    "    for filename in files:\n",
    "        if filename.endswith('.txt'):\n",
    "            vectors.append(filename)\n",
    "        else:\n",
    "            imgs.append(filename)\n",
    "\n",
    "num_train = int(len(imgs) * train_ratio)\n",
    "num_valid = int(len(imgs) * valid_ratio)\n",
    "num_test = int(len(imgs) * test_ratio)\n",
    "\n",
    "print(\n",
    "    f'Training Samples: {num_train}, Testing Samples: {num_test}, Validation Samples: {num_valid}')"
   ]
  }
 ],
 "metadata": {
  "kernelspec": {
   "display_name": "Python 3.10.5 64-bit",
   "language": "python",
   "name": "python3"
  },
  "language_info": {
   "codemirror_mode": {
    "name": "ipython",
    "version": 3
   },
   "file_extension": ".py",
   "mimetype": "text/x-python",
   "name": "python",
   "nbconvert_exporter": "python",
   "pygments_lexer": "ipython3",
   "version": "3.10.5"
  },
  "orig_nbformat": 4,
  "vscode": {
   "interpreter": {
    "hash": "7c2737f5cd3eb6a237b7123ce75c641d6f975db18b0c0702ad2055474d78171c"
   }
  }
 },
 "nbformat": 4,
 "nbformat_minor": 2
}
